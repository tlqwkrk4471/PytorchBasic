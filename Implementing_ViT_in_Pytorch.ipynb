{
  "cells": [
    {
      "cell_type": "markdown",
      "metadata": {
        "id": "view-in-github",
        "colab_type": "text"
      },
      "source": [
        "<a href=\"https://colab.research.google.com/github/tlqwkrk4471/PytorchBasic/blob/main/Implementing_ViT_in_Pytorch.ipynb\" target=\"_parent\"><img src=\"https://colab.research.google.com/assets/colab-badge.svg\" alt=\"Open In Colab\"/></a>"
      ]
    },
    {
      "cell_type": "code",
      "execution_count": 1,
      "metadata": {
        "colab": {
          "base_uri": "https://localhost:8080/"
        },
        "id": "xV4Aq5N1odhv",
        "outputId": "6d658b38-3b6f-421e-b4c3-475e633d02d2"
      },
      "outputs": [
        {
          "output_type": "stream",
          "name": "stdout",
          "text": [
            "Looking in indexes: https://pypi.org/simple, https://us-python.pkg.dev/colab-wheels/public/simple/\n",
            "Collecting einops\n",
            "  Downloading einops-0.6.1-py3-none-any.whl (42 kB)\n",
            "\u001b[2K     \u001b[90m━━━━━━━━━━━━━━━━━━━━━━━━━━━━━━━━━━━━━━━━\u001b[0m \u001b[32m42.2/42.2 kB\u001b[0m \u001b[31m3.9 MB/s\u001b[0m eta \u001b[36m0:00:00\u001b[0m\n",
            "\u001b[?25hInstalling collected packages: einops\n",
            "Successfully installed einops-0.6.1\n"
          ]
        }
      ],
      "source": [
        "! pip install einops"
      ]
    },
    {
      "cell_type": "markdown",
      "source": [
        "# Implementing ViT in Pytorch\n",
        "Reference: https://github.com/FrancescoSaverioZuppichini/ViT"
      ],
      "metadata": {
        "id": "p27hn_tmqS73"
      }
    },
    {
      "cell_type": "code",
      "execution_count": 2,
      "metadata": {
        "id": "ozWD_fJSvs73"
      },
      "outputs": [],
      "source": [
        "import torch\n",
        "import torch.nn.functional as F\n",
        "import matplotlib.pyplot as plt\n",
        "\n",
        "from torch import nn\n",
        "from torch import Tensor\n",
        "from PIL import Image\n",
        "from torchvision.transforms import Compose, Resize, ToTensor\n",
        "from einops import rearrange, reduce, repeat\n",
        "from einops.layers.torch import Rearrange, Reduce\n",
        "from torchsummary import summary"
      ]
    },
    {
      "cell_type": "markdown",
      "source": [
        "## Data"
      ],
      "metadata": {
        "id": "1zEJP-bcqQbC"
      }
    },
    {
      "cell_type": "code",
      "execution_count": 3,
      "metadata": {
        "id": "vbqnLCaelpuk"
      },
      "outputs": [],
      "source": [
        "#img = Image.open('./meat_data/KakaoTalk_Image_2023-06-13-18-11-22_001.jpeg')\n",
        "\n",
        "#fig = plt.figure()\n",
        "#plt.imshow(img)"
      ]
    },
    {
      "cell_type": "code",
      "execution_count": 4,
      "metadata": {
        "id": "YMndKnwPpCzX"
      },
      "outputs": [],
      "source": [
        "#img.size"
      ]
    },
    {
      "cell_type": "code",
      "execution_count": 5,
      "metadata": {
        "id": "hV7NAeY1p11s"
      },
      "outputs": [],
      "source": [
        "#transform = Compose([Resize((4016, 4016)), ToTensor()])\n",
        "#x = transform(img)\n",
        "#x = x.unsqueeze(0)\n",
        "#x.shape"
      ]
    },
    {
      "cell_type": "code",
      "source": [
        "from torch.utils.data import DataLoader\n",
        "\n",
        "import torchvision.datasets as dset\n",
        "\n",
        "if torch.cuda.is_available() :\n",
        "  device = torch.device('cuda')\n",
        "else:\n",
        "  device = torch.device('cpu')\n",
        "\n",
        "transform = Compose([ToTensor()])\n",
        "train_data = dset.CIFAR10('./datasets', train = True, download = True, transform = transform)\n",
        "loader_train = DataLoader(train_data, batch_size = 32, shuffle= True)\n",
        "\n",
        "test_data = dset.CIFAR10('./datasets', train = False, download = True, transform = transform)\n",
        "loader_test = DataLoader(test_data, batch_size = 32, shuffle = True)"
      ],
      "metadata": {
        "colab": {
          "base_uri": "https://localhost:8080/"
        },
        "id": "W4klQWat-rMh",
        "outputId": "e22fa1a4-cdd3-4b3b-9831-53994e2b3d52"
      },
      "execution_count": 6,
      "outputs": [
        {
          "output_type": "stream",
          "name": "stdout",
          "text": [
            "Downloading https://www.cs.toronto.edu/~kriz/cifar-10-python.tar.gz to ./datasets/cifar-10-python.tar.gz\n"
          ]
        },
        {
          "output_type": "stream",
          "name": "stderr",
          "text": [
            "100%|██████████| 170498071/170498071 [00:05<00:00, 29854778.78it/s]\n"
          ]
        },
        {
          "output_type": "stream",
          "name": "stdout",
          "text": [
            "Extracting ./datasets/cifar-10-python.tar.gz to ./datasets\n",
            "Files already downloaded and verified\n"
          ]
        }
      ]
    },
    {
      "cell_type": "code",
      "source": [
        "x = train_data[0][0].unsqueeze(0)\n",
        "x.shape"
      ],
      "metadata": {
        "colab": {
          "base_uri": "https://localhost:8080/"
        },
        "id": "zD_6IbTA_K3W",
        "outputId": "d48eaf53-decd-4be1-d724-217d783eae3c"
      },
      "execution_count": 7,
      "outputs": [
        {
          "output_type": "execute_result",
          "data": {
            "text/plain": [
              "torch.Size([1, 3, 32, 32])"
            ]
          },
          "metadata": {},
          "execution_count": 7
        }
      ]
    },
    {
      "cell_type": "markdown",
      "source": [
        "## Patches Embedding\n",
        "\n",
        "2D image → sequence of flattened 2D patches\n",
        "\n",
        "H x W x C → N x (PPC)"
      ],
      "metadata": {
        "id": "H3ngVotb14y4"
      }
    },
    {
      "cell_type": "code",
      "source": [
        "patch_size = 4\n",
        "patches = rearrange(x, 'b c (h s1) (w s2) -> b (h w) (s1 s2 c)', s1=patch_size, s2=patch_size)\n",
        "patches.shape"
      ],
      "metadata": {
        "colab": {
          "base_uri": "https://localhost:8080/"
        },
        "id": "x0OsTUMM14hP",
        "outputId": "49a72ef6-7858-4fe7-99b1-83dfe3617258"
      },
      "execution_count": 8,
      "outputs": [
        {
          "output_type": "execute_result",
          "data": {
            "text/plain": [
              "torch.Size([1, 64, 48])"
            ]
          },
          "metadata": {},
          "execution_count": 8
        }
      ]
    },
    {
      "cell_type": "code",
      "source": [
        "class PatchEmbedding(nn.Module):\n",
        "  def __init__(self, in_channels: int = 3, patch_size: int = 4, emb_size: int = 48):\n",
        "    self.patch_size = patch_size\n",
        "    super().__init__()\n",
        "    self.projection = nn.Sequential(\n",
        "      Rearrange('b c (h s1) (w s2) -> b (h w) (s1 s2 c)', s1=patch_size, s2=patch_size),\n",
        "      nn.Linear(patch_size * patch_size * in_channels, emb_size)\n",
        "    )\n",
        "\n",
        "  def forward(self, x: Tensor) -> Tensor:\n",
        "    x = self.projection(x)\n",
        "    return x"
      ],
      "metadata": {
        "id": "BVKHHlwd1-Ay"
      },
      "execution_count": 9,
      "outputs": []
    },
    {
      "cell_type": "code",
      "source": [
        "PatchEmbedding()(x).shape"
      ],
      "metadata": {
        "colab": {
          "base_uri": "https://localhost:8080/"
        },
        "id": "h353FuoYYXyQ",
        "outputId": "9609e43c-e589-4aa2-e102-552222501d85"
      },
      "execution_count": 10,
      "outputs": [
        {
          "output_type": "execute_result",
          "data": {
            "text/plain": [
              "torch.Size([1, 64, 48])"
            ]
          },
          "metadata": {},
          "execution_count": 10
        }
      ]
    },
    {
      "cell_type": "code",
      "source": [
        "class PatchEmbedding(nn.Module):\n",
        "  def __init__(self, in_channels: int = 3, patch_size: int = 4, emb_size: int = 48):\n",
        "    self.patch_size = patch_size\n",
        "    super().__init__()\n",
        "    self.projection = nn.Sequential(\n",
        "        nn.Conv2d(in_channels, emb_size, kernel_size = patch_size, stride = patch_size),\n",
        "        # out_channels = emb_size(768)\n",
        "\n",
        "        Rearrange('b e h w -> b (h w) e')\n",
        "        # in_e = channel\n",
        "        # out_e = emb_size\n",
        "    )\n",
        "\n",
        "  def forward(self, x: Tensor) -> Tensor:\n",
        "    x = self.projection(x)\n",
        "    return x\n",
        "\n",
        "PatchEmbedding()(x).shape\n",
        "# torch.Size([1, 3, 4016, 4016]) -> torch.Size([1, 63001, 768])"
      ],
      "metadata": {
        "colab": {
          "base_uri": "https://localhost:8080/"
        },
        "id": "uUL96FmaluBk",
        "outputId": "9914f3b7-420a-401c-9655-f02c4426654e"
      },
      "execution_count": 11,
      "outputs": [
        {
          "output_type": "execute_result",
          "data": {
            "text/plain": [
              "torch.Size([1, 64, 48])"
            ]
          },
          "metadata": {},
          "execution_count": 11
        }
      ]
    },
    {
      "cell_type": "markdown",
      "source": [
        "## CLS Token\n",
        "shape = (1,1,emb_size)"
      ],
      "metadata": {
        "id": "pwnamTCUqE1d"
      }
    },
    {
      "cell_type": "code",
      "source": [
        "class PatchEmbedding(nn.Module):\n",
        "  def __init__(self, in_channels: int = 3, patch_size: int = 4, emb_size: int = 48):\n",
        "    self.patch_size = patch_size\n",
        "    super().__init__()\n",
        "    self.projection = nn.Sequential(\n",
        "        nn.Conv2d(in_channels, emb_size, kernel_size = patch_size, stride = patch_size),\n",
        "        Rearrange('b e h w -> b (h w) e')\n",
        "    )\n",
        "\n",
        "    self.cls_token = nn.Parameter(torch.randn(1,1,emb_size))\n",
        "\n",
        "  def forward(self, x: Tensor) -> Tensor:\n",
        "    b, _, _, _ = x.shape\n",
        "    x = self.projection(x)\n",
        "    cls_token = repeat(self.cls_token, '() n e -> b n e', b = b)\n",
        "\n",
        "    x = torch.cat([cls_token, x], dim = 1)\n",
        "    return x\n",
        "\n",
        "PatchEmbedding()(x).shape"
      ],
      "metadata": {
        "colab": {
          "base_uri": "https://localhost:8080/"
        },
        "id": "ixOEqnlUsjGe",
        "outputId": "dfb0b23e-68b9-4c26-977c-b3d39cd755dc"
      },
      "execution_count": 12,
      "outputs": [
        {
          "output_type": "execute_result",
          "data": {
            "text/plain": [
              "torch.Size([1, 65, 48])"
            ]
          },
          "metadata": {},
          "execution_count": 12
        }
      ]
    },
    {
      "cell_type": "markdown",
      "source": [
        "## Position Embedding\n",
        "shape = (n+1, emb_size)\n",
        "\n",
        "batch size는 broadcasting으로 같은 Position Embdding 적용하기 때문에 명시하지 않음\n",
        "\n",
        "Position Embedding은 trainable하기 때문에 Parameter로 설정"
      ],
      "metadata": {
        "id": "Gr4s6FJPw6NO"
      }
    },
    {
      "cell_type": "code",
      "source": [
        "class PatchEmbedding(nn.Module):\n",
        "  def __init__(self, in_channels: int = 3, patch_size: int = 4, emb_size: int = 48, img_size: int = 32):\n",
        "    self.patch_size = patch_size\n",
        "    super().__init__()\n",
        "    self.projection = nn.Sequential(\n",
        "      nn.Conv2d(in_channels, emb_size, kernel_size=patch_size, stride=patch_size),\n",
        "      Rearrange('b e (h) (w) -> b (h w) e'),\n",
        "    )\n",
        "    self.cls_token = nn.Parameter(torch.randn(1,1, emb_size))\n",
        "    self.positions = nn.Parameter(torch.randn((img_size // patch_size) ** 2 + 1, emb_size))\n",
        "\n",
        "  def forward(self, x: Tensor) -> Tensor:\n",
        "    b, _, _, _ = x.shape\n",
        "    x = self.projection(x)\n",
        "    cls_tokens = repeat(self.cls_token, '() n e -> b n e', b = b)\n",
        "\n",
        "    x = torch.cat([cls_tokens, x], dim = 1)\n",
        "\n",
        "    x += self.positions\n",
        "    return x\n",
        "\n",
        "PatchEmbedding()(x).shape"
      ],
      "metadata": {
        "colab": {
          "base_uri": "https://localhost:8080/"
        },
        "id": "ZYelU-SxwIJk",
        "outputId": "5271471d-b6d3-488b-d171-c4c8c700e51f"
      },
      "execution_count": 13,
      "outputs": [
        {
          "output_type": "execute_result",
          "data": {
            "text/plain": [
              "torch.Size([1, 65, 48])"
            ]
          },
          "metadata": {},
          "execution_count": 13
        }
      ]
    },
    {
      "cell_type": "markdown",
      "source": [
        "# Transformer Encoder\n",
        "## Multi-Head Attention"
      ],
      "metadata": {
        "id": "Nd1BUuJ4LxQc"
      }
    },
    {
      "cell_type": "code",
      "source": [
        "class MultiHeadAttention(nn.Module):\n",
        "  def __init__(self, emb_size: int = 48, num_heads: int = 8, dropout: float = 0):\n",
        "    super().__init__()\n",
        "    self.emb_size = emb_size\n",
        "    self.num_heads = num_heads\n",
        "    self.keys = nn.Linear(emb_size, emb_size)\n",
        "    self.queries = nn.Linear(emb_size, emb_size)\n",
        "    self.values = nn.Linear(emb_size, emb_size)\n",
        "    self.att_drop = nn.Dropout(dropout)\n",
        "    self.projection = nn.Linear(emb_size, emb_size)\n",
        "    self.scaling = (self.emb_size // num_heads) ** -0.5\n",
        "\n",
        "  def forward(self, x : Tensor, mask: Tensor = None) -> Tensor:\n",
        "    queries = rearrange(self.queries(x), \"b n (h d) -> b h n d\", h=self.num_heads)\n",
        "    keys = rearrange(self.keys(x), \"b n (h d) -> b h n d\", h=self.num_heads)\n",
        "    values  = rearrange(self.values(x), \"b n (h d) -> b h n d\", h=self.num_heads)\n",
        "\n",
        "    energy = torch.einsum('bhqd, bhkd -> bhqk', queries, keys) # batch, num_heads, query_len, key_len\n",
        "    if mask is not None:\n",
        "      fill_value = torch.finfo(torch.float32).min\n",
        "      energy.mask_fill(~mask, fill_value)\n",
        "\n",
        "    att = F.softmax(energy, dim=-1) * self.scaling\n",
        "    att = self.att_drop(att)\n",
        "\n",
        "    out = torch.einsum('bhal, bhlv -> bhav ', att, values)\n",
        "    out = rearrange(out, \"b h n d -> b n (h d)\")\n",
        "    out = self.projection(out)\n",
        "    return out\n",
        "\n",
        "patches_embedded = PatchEmbedding()(x)\n",
        "MultiHeadAttention()(patches_embedded).shape"
      ],
      "metadata": {
        "colab": {
          "base_uri": "https://localhost:8080/"
        },
        "id": "6ITQaKIALvPc",
        "outputId": "4a5bad28-f901-403e-a78e-3b11c97b3498"
      },
      "execution_count": 14,
      "outputs": [
        {
          "output_type": "execute_result",
          "data": {
            "text/plain": [
              "torch.Size([1, 65, 48])"
            ]
          },
          "metadata": {},
          "execution_count": 14
        }
      ]
    },
    {
      "cell_type": "code",
      "source": [
        "class MultiHeadAttention(nn.Module):\n",
        "  def __init__(self, emb_size: int = 48, num_heads: int = 8, dropout: float = 0):\n",
        "    super().__init__()\n",
        "    self.emb_size = emb_size\n",
        "    self.num_heads = num_heads\n",
        "    # fuse the queries, keys and values in one matrix\n",
        "    self.qkv = nn.Linear(emb_size, emb_size * 3)\n",
        "    self.att_drop = nn.Dropout(dropout)\n",
        "    self.projection = nn.Linear(emb_size, emb_size)\n",
        "\n",
        "  def forward(self, x : Tensor, mask: Tensor = None) -> Tensor:\n",
        "    # split keys, queries and values in num_heads\n",
        "    qkv = rearrange(self.qkv(x), \"b n (h d qkv) -> (qkv) b h n d\", h=self.num_heads, qkv=3)\n",
        "    queries, keys, values = qkv[0], qkv[1], qkv[2]\n",
        "    # sum up over the last axis\n",
        "    energy = torch.einsum('bhqd, bhkd -> bhqk', queries, keys) # batch, num_heads, query_len, key_len\n",
        "    if mask is not None:\n",
        "      fill_value = torch.finfo(torch.float32).min\n",
        "      energy.mask_fill(~mask, fill_value)\n",
        "\n",
        "    scaling = self.emb_size ** (1/2)\n",
        "    att = F.softmax(energy, dim=-1) / scaling\n",
        "    att = self.att_drop(att)\n",
        "    # sum up over the third axis\n",
        "    out = torch.einsum('bhal, bhlv -> bhav ', att, values)\n",
        "    out = rearrange(out, \"b h n d -> b n (h d)\")\n",
        "    out = self.projection(out)\n",
        "    return out\n",
        "\n",
        "patches_embedded = PatchEmbedding()(x)\n",
        "MultiHeadAttention()(patches_embedded).shape"
      ],
      "metadata": {
        "colab": {
          "base_uri": "https://localhost:8080/"
        },
        "id": "cUWsH180ICE8",
        "outputId": "ca25cecc-6c91-48f9-eedf-afddc0bf432d"
      },
      "execution_count": 15,
      "outputs": [
        {
          "output_type": "execute_result",
          "data": {
            "text/plain": [
              "torch.Size([1, 65, 48])"
            ]
          },
          "metadata": {},
          "execution_count": 15
        }
      ]
    },
    {
      "cell_type": "markdown",
      "source": [
        "## Residuals"
      ],
      "metadata": {
        "id": "O0xAPKvcIzLz"
      }
    },
    {
      "cell_type": "code",
      "source": [
        "class ResidualAdd(nn.Module):\n",
        "  def __init__(self, fn):\n",
        "    super().__init__()\n",
        "    self.fn = fn\n",
        "\n",
        "  def forward(self, x, **kwargs):\n",
        "    res = x\n",
        "    x = self.fn(x, **kwargs)\n",
        "    x += res\n",
        "    return x"
      ],
      "metadata": {
        "id": "LAJ1lK5UIpDc"
      },
      "execution_count": 16,
      "outputs": []
    },
    {
      "cell_type": "code",
      "source": [
        "class FeedForwardBlock(nn.Sequential):\n",
        "  def __init__(self, emb_size: int, expansion: int = 4, drop_p: float = 0.):\n",
        "    super().__init__(\n",
        "      nn.Linear(emb_size, expansion * emb_size),\n",
        "      nn.GELU(),\n",
        "      nn.Dropout(drop_p),\n",
        "      nn.Linear(expansion * emb_size, emb_size),\n",
        "    )"
      ],
      "metadata": {
        "id": "Bg_KdC3gJTy0"
      },
      "execution_count": 17,
      "outputs": []
    },
    {
      "cell_type": "code",
      "source": [
        "class TransformerEncoderBlock(nn.Sequential):\n",
        "  def __init__(self,\n",
        "      emb_size: int = 48,\n",
        "      drop_p: float = 0.,\n",
        "      forward_expansion: int = 4,\n",
        "      forward_drop_p: float = 0.,\n",
        "      ** kwargs):\n",
        "    super().__init__(\n",
        "      ResidualAdd(nn.Sequential(\n",
        "        nn.LayerNorm(emb_size),\n",
        "        MultiHeadAttention(emb_size, **kwargs),\n",
        "        nn.Dropout(drop_p)\n",
        "      )),\n",
        "      ResidualAdd(nn.Sequential(\n",
        "        nn.LayerNorm(emb_size),\n",
        "        FeedForwardBlock(\n",
        "          emb_size, expansion=forward_expansion, drop_p=forward_drop_p),\n",
        "        nn.Dropout(drop_p)\n",
        "      )\n",
        "    ))"
      ],
      "metadata": {
        "id": "41E6uaqQtY_D"
      },
      "execution_count": 21,
      "outputs": []
    },
    {
      "cell_type": "code",
      "source": [
        "patches_embedded = PatchEmbedding()(x)\n",
        "TransformerEncoderBlock()(patches_embedded).shape"
      ],
      "metadata": {
        "colab": {
          "base_uri": "https://localhost:8080/"
        },
        "id": "OroqFTSAt79O",
        "outputId": "28cd1754-58f2-47dd-ed4a-e5fc19766200"
      },
      "execution_count": 22,
      "outputs": [
        {
          "output_type": "execute_result",
          "data": {
            "text/plain": [
              "torch.Size([1, 65, 48])"
            ]
          },
          "metadata": {},
          "execution_count": 22
        }
      ]
    },
    {
      "cell_type": "code",
      "source": [
        "class TransformerEncoder(nn.Sequential):\n",
        "  def __init__(self, depth: int = 12, **kwargs):\n",
        "    super().__init__(*[TransformerEncoderBlock(**kwargs) for _ in range(depth)])"
      ],
      "metadata": {
        "id": "7MHCsvMeuIIz"
      },
      "execution_count": 23,
      "outputs": []
    },
    {
      "cell_type": "code",
      "source": [
        "class ClassificationHead(nn.Sequential):\n",
        "  def __init__(self, emb_size: int = 48, n_classes: int = 10):\n",
        "    super().__init__(\n",
        "      Reduce('b n e -> b e', reduction='mean'),\n",
        "      nn.LayerNorm(emb_size),\n",
        "      nn.Linear(emb_size, n_classes))"
      ],
      "metadata": {
        "id": "6iXIAvd8uTEh"
      },
      "execution_count": 24,
      "outputs": []
    },
    {
      "cell_type": "code",
      "source": [
        "class ViT(nn.Sequential):\n",
        "  def __init__(self,\n",
        "      in_channels: int = 3,\n",
        "      patch_size: int = 16,\n",
        "      emb_size: int = 48,\n",
        "      img_size: int = 32,\n",
        "      depth: int = 12,\n",
        "      n_classes: int = 10,\n",
        "      **kwargs):\n",
        "    super().__init__(\n",
        "      PatchEmbedding(in_channels, patch_size, emb_size, img_size),\n",
        "      TransformerEncoder(depth, emb_size=emb_size, **kwargs),\n",
        "      ClassificationHead(emb_size, n_classes)\n",
        "    )"
      ],
      "metadata": {
        "id": "tG0s_hOsuX8m"
      },
      "execution_count": 26,
      "outputs": []
    },
    {
      "cell_type": "code",
      "source": [
        "summary(ViT(), (3, 32, 32), device='cpu')"
      ],
      "metadata": {
        "colab": {
          "base_uri": "https://localhost:8080/"
        },
        "id": "DXXEd9iSum2R",
        "outputId": "2a6f601a-dc22-481b-c65d-362002b3568e"
      },
      "execution_count": 28,
      "outputs": [
        {
          "output_type": "stream",
          "name": "stdout",
          "text": [
            "----------------------------------------------------------------\n",
            "        Layer (type)               Output Shape         Param #\n",
            "================================================================\n",
            "            Conv2d-1             [-1, 48, 2, 2]          36,912\n",
            "         Rearrange-2                [-1, 4, 48]               0\n",
            "    PatchEmbedding-3                [-1, 5, 48]               0\n",
            "         LayerNorm-4                [-1, 5, 48]              96\n",
            "            Linear-5               [-1, 5, 144]           7,056\n",
            "           Dropout-6              [-1, 8, 5, 5]               0\n",
            "            Linear-7                [-1, 5, 48]           2,352\n",
            "MultiHeadAttention-8                [-1, 5, 48]               0\n",
            "           Dropout-9                [-1, 5, 48]               0\n",
            "      ResidualAdd-10                [-1, 5, 48]               0\n",
            "        LayerNorm-11                [-1, 5, 48]              96\n",
            "           Linear-12               [-1, 5, 192]           9,408\n",
            "             GELU-13               [-1, 5, 192]               0\n",
            "          Dropout-14               [-1, 5, 192]               0\n",
            "           Linear-15                [-1, 5, 48]           9,264\n",
            "          Dropout-16                [-1, 5, 48]               0\n",
            "      ResidualAdd-17                [-1, 5, 48]               0\n",
            "        LayerNorm-18                [-1, 5, 48]              96\n",
            "           Linear-19               [-1, 5, 144]           7,056\n",
            "          Dropout-20              [-1, 8, 5, 5]               0\n",
            "           Linear-21                [-1, 5, 48]           2,352\n",
            "MultiHeadAttention-22                [-1, 5, 48]               0\n",
            "          Dropout-23                [-1, 5, 48]               0\n",
            "      ResidualAdd-24                [-1, 5, 48]               0\n",
            "        LayerNorm-25                [-1, 5, 48]              96\n",
            "           Linear-26               [-1, 5, 192]           9,408\n",
            "             GELU-27               [-1, 5, 192]               0\n",
            "          Dropout-28               [-1, 5, 192]               0\n",
            "           Linear-29                [-1, 5, 48]           9,264\n",
            "          Dropout-30                [-1, 5, 48]               0\n",
            "      ResidualAdd-31                [-1, 5, 48]               0\n",
            "        LayerNorm-32                [-1, 5, 48]              96\n",
            "           Linear-33               [-1, 5, 144]           7,056\n",
            "          Dropout-34              [-1, 8, 5, 5]               0\n",
            "           Linear-35                [-1, 5, 48]           2,352\n",
            "MultiHeadAttention-36                [-1, 5, 48]               0\n",
            "          Dropout-37                [-1, 5, 48]               0\n",
            "      ResidualAdd-38                [-1, 5, 48]               0\n",
            "        LayerNorm-39                [-1, 5, 48]              96\n",
            "           Linear-40               [-1, 5, 192]           9,408\n",
            "             GELU-41               [-1, 5, 192]               0\n",
            "          Dropout-42               [-1, 5, 192]               0\n",
            "           Linear-43                [-1, 5, 48]           9,264\n",
            "          Dropout-44                [-1, 5, 48]               0\n",
            "      ResidualAdd-45                [-1, 5, 48]               0\n",
            "        LayerNorm-46                [-1, 5, 48]              96\n",
            "           Linear-47               [-1, 5, 144]           7,056\n",
            "          Dropout-48              [-1, 8, 5, 5]               0\n",
            "           Linear-49                [-1, 5, 48]           2,352\n",
            "MultiHeadAttention-50                [-1, 5, 48]               0\n",
            "          Dropout-51                [-1, 5, 48]               0\n",
            "      ResidualAdd-52                [-1, 5, 48]               0\n",
            "        LayerNorm-53                [-1, 5, 48]              96\n",
            "           Linear-54               [-1, 5, 192]           9,408\n",
            "             GELU-55               [-1, 5, 192]               0\n",
            "          Dropout-56               [-1, 5, 192]               0\n",
            "           Linear-57                [-1, 5, 48]           9,264\n",
            "          Dropout-58                [-1, 5, 48]               0\n",
            "      ResidualAdd-59                [-1, 5, 48]               0\n",
            "        LayerNorm-60                [-1, 5, 48]              96\n",
            "           Linear-61               [-1, 5, 144]           7,056\n",
            "          Dropout-62              [-1, 8, 5, 5]               0\n",
            "           Linear-63                [-1, 5, 48]           2,352\n",
            "MultiHeadAttention-64                [-1, 5, 48]               0\n",
            "          Dropout-65                [-1, 5, 48]               0\n",
            "      ResidualAdd-66                [-1, 5, 48]               0\n",
            "        LayerNorm-67                [-1, 5, 48]              96\n",
            "           Linear-68               [-1, 5, 192]           9,408\n",
            "             GELU-69               [-1, 5, 192]               0\n",
            "          Dropout-70               [-1, 5, 192]               0\n",
            "           Linear-71                [-1, 5, 48]           9,264\n",
            "          Dropout-72                [-1, 5, 48]               0\n",
            "      ResidualAdd-73                [-1, 5, 48]               0\n",
            "        LayerNorm-74                [-1, 5, 48]              96\n",
            "           Linear-75               [-1, 5, 144]           7,056\n",
            "          Dropout-76              [-1, 8, 5, 5]               0\n",
            "           Linear-77                [-1, 5, 48]           2,352\n",
            "MultiHeadAttention-78                [-1, 5, 48]               0\n",
            "          Dropout-79                [-1, 5, 48]               0\n",
            "      ResidualAdd-80                [-1, 5, 48]               0\n",
            "        LayerNorm-81                [-1, 5, 48]              96\n",
            "           Linear-82               [-1, 5, 192]           9,408\n",
            "             GELU-83               [-1, 5, 192]               0\n",
            "          Dropout-84               [-1, 5, 192]               0\n",
            "           Linear-85                [-1, 5, 48]           9,264\n",
            "          Dropout-86                [-1, 5, 48]               0\n",
            "      ResidualAdd-87                [-1, 5, 48]               0\n",
            "        LayerNorm-88                [-1, 5, 48]              96\n",
            "           Linear-89               [-1, 5, 144]           7,056\n",
            "          Dropout-90              [-1, 8, 5, 5]               0\n",
            "           Linear-91                [-1, 5, 48]           2,352\n",
            "MultiHeadAttention-92                [-1, 5, 48]               0\n",
            "          Dropout-93                [-1, 5, 48]               0\n",
            "      ResidualAdd-94                [-1, 5, 48]               0\n",
            "        LayerNorm-95                [-1, 5, 48]              96\n",
            "           Linear-96               [-1, 5, 192]           9,408\n",
            "             GELU-97               [-1, 5, 192]               0\n",
            "          Dropout-98               [-1, 5, 192]               0\n",
            "           Linear-99                [-1, 5, 48]           9,264\n",
            "         Dropout-100                [-1, 5, 48]               0\n",
            "     ResidualAdd-101                [-1, 5, 48]               0\n",
            "       LayerNorm-102                [-1, 5, 48]              96\n",
            "          Linear-103               [-1, 5, 144]           7,056\n",
            "         Dropout-104              [-1, 8, 5, 5]               0\n",
            "          Linear-105                [-1, 5, 48]           2,352\n",
            "MultiHeadAttention-106                [-1, 5, 48]               0\n",
            "         Dropout-107                [-1, 5, 48]               0\n",
            "     ResidualAdd-108                [-1, 5, 48]               0\n",
            "       LayerNorm-109                [-1, 5, 48]              96\n",
            "          Linear-110               [-1, 5, 192]           9,408\n",
            "            GELU-111               [-1, 5, 192]               0\n",
            "         Dropout-112               [-1, 5, 192]               0\n",
            "          Linear-113                [-1, 5, 48]           9,264\n",
            "         Dropout-114                [-1, 5, 48]               0\n",
            "     ResidualAdd-115                [-1, 5, 48]               0\n",
            "       LayerNorm-116                [-1, 5, 48]              96\n",
            "          Linear-117               [-1, 5, 144]           7,056\n",
            "         Dropout-118              [-1, 8, 5, 5]               0\n",
            "          Linear-119                [-1, 5, 48]           2,352\n",
            "MultiHeadAttention-120                [-1, 5, 48]               0\n",
            "         Dropout-121                [-1, 5, 48]               0\n",
            "     ResidualAdd-122                [-1, 5, 48]               0\n",
            "       LayerNorm-123                [-1, 5, 48]              96\n",
            "          Linear-124               [-1, 5, 192]           9,408\n",
            "            GELU-125               [-1, 5, 192]               0\n",
            "         Dropout-126               [-1, 5, 192]               0\n",
            "          Linear-127                [-1, 5, 48]           9,264\n",
            "         Dropout-128                [-1, 5, 48]               0\n",
            "     ResidualAdd-129                [-1, 5, 48]               0\n",
            "       LayerNorm-130                [-1, 5, 48]              96\n",
            "          Linear-131               [-1, 5, 144]           7,056\n",
            "         Dropout-132              [-1, 8, 5, 5]               0\n",
            "          Linear-133                [-1, 5, 48]           2,352\n",
            "MultiHeadAttention-134                [-1, 5, 48]               0\n",
            "         Dropout-135                [-1, 5, 48]               0\n",
            "     ResidualAdd-136                [-1, 5, 48]               0\n",
            "       LayerNorm-137                [-1, 5, 48]              96\n",
            "          Linear-138               [-1, 5, 192]           9,408\n",
            "            GELU-139               [-1, 5, 192]               0\n",
            "         Dropout-140               [-1, 5, 192]               0\n",
            "          Linear-141                [-1, 5, 48]           9,264\n",
            "         Dropout-142                [-1, 5, 48]               0\n",
            "     ResidualAdd-143                [-1, 5, 48]               0\n",
            "       LayerNorm-144                [-1, 5, 48]              96\n",
            "          Linear-145               [-1, 5, 144]           7,056\n",
            "         Dropout-146              [-1, 8, 5, 5]               0\n",
            "          Linear-147                [-1, 5, 48]           2,352\n",
            "MultiHeadAttention-148                [-1, 5, 48]               0\n",
            "         Dropout-149                [-1, 5, 48]               0\n",
            "     ResidualAdd-150                [-1, 5, 48]               0\n",
            "       LayerNorm-151                [-1, 5, 48]              96\n",
            "          Linear-152               [-1, 5, 192]           9,408\n",
            "            GELU-153               [-1, 5, 192]               0\n",
            "         Dropout-154               [-1, 5, 192]               0\n",
            "          Linear-155                [-1, 5, 48]           9,264\n",
            "         Dropout-156                [-1, 5, 48]               0\n",
            "     ResidualAdd-157                [-1, 5, 48]               0\n",
            "       LayerNorm-158                [-1, 5, 48]              96\n",
            "          Linear-159               [-1, 5, 144]           7,056\n",
            "         Dropout-160              [-1, 8, 5, 5]               0\n",
            "          Linear-161                [-1, 5, 48]           2,352\n",
            "MultiHeadAttention-162                [-1, 5, 48]               0\n",
            "         Dropout-163                [-1, 5, 48]               0\n",
            "     ResidualAdd-164                [-1, 5, 48]               0\n",
            "       LayerNorm-165                [-1, 5, 48]              96\n",
            "          Linear-166               [-1, 5, 192]           9,408\n",
            "            GELU-167               [-1, 5, 192]               0\n",
            "         Dropout-168               [-1, 5, 192]               0\n",
            "          Linear-169                [-1, 5, 48]           9,264\n",
            "         Dropout-170                [-1, 5, 48]               0\n",
            "     ResidualAdd-171                [-1, 5, 48]               0\n",
            "          Reduce-172                   [-1, 48]               0\n",
            "       LayerNorm-173                   [-1, 48]              96\n",
            "          Linear-174                   [-1, 10]             490\n",
            "================================================================\n",
            "Total params: 376,762\n",
            "Trainable params: 376,762\n",
            "Non-trainable params: 0\n",
            "----------------------------------------------------------------\n",
            "Input size (MB): 0.01\n",
            "Forward/backward pass size (MB): 0.55\n",
            "Params size (MB): 1.44\n",
            "Estimated Total Size (MB): 2.00\n",
            "----------------------------------------------------------------\n"
          ]
        }
      ]
    },
    {
      "cell_type": "code",
      "source": [
        "learning_rate = 1e-3\n",
        "\n",
        "vit = ViT()\n",
        "optimizer = torch.optim.Adam(vit.parameters(), lr = learning_rate, betas = (0.9, 0.99))"
      ],
      "metadata": {
        "id": "pKYMnCTpu9w4"
      },
      "execution_count": 30,
      "outputs": []
    },
    {
      "cell_type": "code",
      "source": [
        "def check_accuracy(data_loader, model, verbose = True) :\n",
        "\n",
        "  if verbose :\n",
        "    if data_loader.dataset.train :\n",
        "      print('Train set accurcy')\n",
        "    else :\n",
        "      print('Test set accuracy')\n",
        "\n",
        "  num_correct = 0\n",
        "  num_total = 0\n",
        "  model.eval() # evaluation mode\n",
        "\n",
        "  with torch.no_grad() :\n",
        "    for x, y in data_loader :\n",
        "      x = x.to(device = device)\n",
        "      y = y.to(device = device)\n",
        "\n",
        "      scores = model(x)\n",
        "\n",
        "      _, preds = scores.max(1)\n",
        "      num_correct += (preds == y).sum()\n",
        "      num_total += preds.size(0)\n",
        "\n",
        "    acc = float(num_correct) / num_total\n",
        "    if verbose :\n",
        "      print('Correct : (%d / %d), Accuracy : (%.2f)' % (num_correct, num_total, 100*acc))\n",
        "\n",
        "  return 100*acc"
      ],
      "metadata": {
        "id": "GcKiLBnYwUe-"
      },
      "execution_count": 35,
      "outputs": []
    },
    {
      "cell_type": "code",
      "source": [
        "def train(model, optimizer, data_loader, epochs = 1, verbose = True):\n",
        "  model = model.to(device = device)\n",
        "\n",
        "  log = {'loss' : [], 'acc' : []}\n",
        "\n",
        "  for e in range(epochs):\n",
        "    if verbose :\n",
        "      print('epochs : %d / %d' % (e, epochs))\n",
        "    log['acc'].append(check_accuracy(loader_test, model, verbose = verbose))\n",
        "\n",
        "    for t, (x, y) in enumerate(data_loader) :\n",
        "      model.train() # training mode\n",
        "      x = x.to(device = device)\n",
        "      y = y.to(device = device)\n",
        "\n",
        "      scores = model(x)\n",
        "      loss = F.cross_entropy(scores, y)\n",
        "\n",
        "      optimizer.zero_grad()\n",
        "\n",
        "      loss.backward()\n",
        "\n",
        "      optimizer.step()\n",
        "\n",
        "      if t % 100 == 0 :\n",
        "        log['loss'].append(loss)\n",
        "        if verbose :\n",
        "          print('iteration %d, loss = %.4f' % (t, loss.item()))\n",
        "\n",
        "  return log"
      ],
      "metadata": {
        "id": "Lstt33CHwNCW"
      },
      "execution_count": 36,
      "outputs": []
    },
    {
      "cell_type": "code",
      "source": [
        "training_log = train(vit, optimizer, loader_train, epochs = 10, verbose = False)"
      ],
      "metadata": {
        "id": "pjdX4C_LvOD9"
      },
      "execution_count": 42,
      "outputs": []
    },
    {
      "cell_type": "code",
      "source": [
        "def plot_loss(loss, label) :\n",
        "  plt.xlabel('iterations(1e2)')\n",
        "  plt.ylabel('training loss')\n",
        "\n",
        "  plt.plot(loss, label = label)\n",
        "  plt.legend()\n",
        "\n",
        "def plot_acc(acc, label) :\n",
        "  plt.xlabel('epochs')\n",
        "  plt.ylabel('accuracy(test data)')\n",
        "\n",
        "  plt.plot(acc, label = label)\n",
        "  plt.legend()"
      ],
      "metadata": {
        "id": "XF_2VGhzvdgs"
      },
      "execution_count": 43,
      "outputs": []
    },
    {
      "cell_type": "code",
      "source": [
        "loss_values = torch.tensor(training_log['loss']).cpu().numpy()\n",
        "plot_loss(loss_values, 'ViT')"
      ],
      "metadata": {
        "colab": {
          "base_uri": "https://localhost:8080/",
          "height": 449
        },
        "id": "t-TWNnOuxGbG",
        "outputId": "96eb6296-3f36-486f-bf28-13dcd6463d78"
      },
      "execution_count": 44,
      "outputs": [
        {
          "output_type": "display_data",
          "data": {
            "text/plain": [
              "<Figure size 640x480 with 1 Axes>"
            ],
            "image/png": "[encoded data removed]"
          },
          "metadata": {}
        }
      ]
    },
    {
      "cell_type": "code",
      "source": [
        "plot_acc(training_log['acc'], 'ViT')"
      ],
      "metadata": {
        "colab": {
          "base_uri": "https://localhost:8080/",
          "height": 449
        },
        "id": "ZiW01GrvxIf6",
        "outputId": "3294eeec-9384-4af7-e342-5eab02644034"
      },
      "execution_count": 45,
      "outputs": [
        {
          "output_type": "display_data",
          "data": {
            "text/plain": [
              "<Figure size 640x480 with 1 Axes>"
            ],
            "image/png": "[encoded data removed]"
          },
          "metadata": {}
        }
      ]
    },
    {
      "cell_type": "code",
      "source": [],
      "metadata": {
        "id": "_85ejUfUxOHl"
      },
      "execution_count": null,
      "outputs": []
    }
  ],
  "metadata": {
    "colab": {
      "provenance": [],
      "gpuType": "T4",
      "authorship_tag": "ABX9TyOGETu6WKYm6mKJzKrFPr1H",
      "include_colab_link": true
    },
    "kernelspec": {
      "display_name": "Python 3",
      "name": "python3"
    },
    "language_info": {
      "name": "python"
    },
    "accelerator": "GPU"
  },
  "nbformat": 4,
  "nbformat_minor": 0
}