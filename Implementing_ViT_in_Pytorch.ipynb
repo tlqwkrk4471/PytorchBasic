{
  "cells": [
    {
      "cell_type": "markdown",
      "metadata": {
        "id": "view-in-github",
        "colab_type": "text"
      },
      "source": [
        "<a href=\"https://colab.research.google.com/github/tlqwkrk4471/PytorchBasic/blob/main/Implementing_ViT_in_Pytorch.ipynb\" target=\"_parent\"><img src=\"https://colab.research.google.com/assets/colab-badge.svg\" alt=\"Open In Colab\"/></a>"
      ]
    },
    {
      "cell_type": "code",
      "execution_count": 1,
      "metadata": {
        "colab": {
          "base_uri": "https://localhost:8080/"
        },
        "id": "xV4Aq5N1odhv",
        "outputId": "dce3f8b9-9489-4b3a-c3ff-b9cfaf97c094"
      },
      "outputs": [
        {
          "output_type": "stream",
          "name": "stdout",
          "text": [
            "Looking in indexes: https://pypi.org/simple, https://us-python.pkg.dev/colab-wheels/public/simple/\n",
            "Collecting einops\n",
            "  Downloading einops-0.6.1-py3-none-any.whl (42 kB)\n",
            "\u001b[2K     \u001b[90m━━━━━━━━━━━━━━━━━━━━━━━━━━━━━━━━━━━━━━━━\u001b[0m \u001b[32m42.2/42.2 kB\u001b[0m \u001b[31m2.9 MB/s\u001b[0m eta \u001b[36m0:00:00\u001b[0m\n",
            "\u001b[?25hInstalling collected packages: einops\n",
            "Successfully installed einops-0.6.1\n"
          ]
        }
      ],
      "source": [
        "! pip install einops"
      ]
    },
    {
      "cell_type": "markdown",
      "source": [
        "# Implementing ViT in Pytorch\n",
        "Reference: https://github.com/FrancescoSaverioZuppichini/ViT"
      ],
      "metadata": {
        "id": "p27hn_tmqS73"
      }
    },
    {
      "cell_type": "code",
      "execution_count": 2,
      "metadata": {
        "id": "ozWD_fJSvs73"
      },
      "outputs": [],
      "source": [
        "import torch\n",
        "import torch.nn.functional as F\n",
        "import matplotlib.pyplot as plt\n",
        "\n",
        "from torch import nn\n",
        "from torch import Tensor\n",
        "from PIL import Image\n",
        "from torchvision.transforms import Compose, Resize, ToTensor\n",
        "from einops import rearrange, reduce, repeat\n",
        "from einops.layers.torch import Rearrange, Reduce\n",
        "from torchsummary import summary"
      ]
    },
    {
      "cell_type": "markdown",
      "source": [
        "## Data"
      ],
      "metadata": {
        "id": "1zEJP-bcqQbC"
      }
    },
    {
      "cell_type": "code",
      "execution_count": 3,
      "metadata": {
        "id": "vbqnLCaelpuk"
      },
      "outputs": [],
      "source": [
        "#img = Image.open('./meat_data/KakaoTalk_Image_2023-06-13-18-11-22_001.jpeg')\n",
        "\n",
        "#fig = plt.figure()\n",
        "#plt.imshow(img)"
      ]
    },
    {
      "cell_type": "code",
      "execution_count": 4,
      "metadata": {
        "id": "YMndKnwPpCzX"
      },
      "outputs": [],
      "source": [
        "#img.size"
      ]
    },
    {
      "cell_type": "code",
      "execution_count": 5,
      "metadata": {
        "id": "hV7NAeY1p11s"
      },
      "outputs": [],
      "source": [
        "#transform = Compose([Resize((4016, 4016)), ToTensor()])\n",
        "#x = transform(img)\n",
        "#x = x.unsqueeze(0)\n",
        "#x.shape"
      ]
    },
    {
      "cell_type": "code",
      "source": [
        "from torch.utils.data import DataLoader\n",
        "\n",
        "import torchvision.datasets as dset\n",
        "\n",
        "if torch.cuda.is_available() :\n",
        "  device = torch.device('cuda')\n",
        "else:\n",
        "  device = torch.device('cpu')\n",
        "\n",
        "transform = Compose([ToTensor()])\n",
        "train_data = dset.CIFAR10('./datasets', train = True, download = True, transform = transform)\n",
        "loader_train = DataLoader(train_data, batch_size = 32, shuffle= True)\n",
        "\n",
        "test_data = dset.CIFAR10('./datasets', train = False, download = True, transform = transform)\n",
        "loader_test = DataLoader(test_data, batch_size = 32, shuffle = True)"
      ],
      "metadata": {
        "colab": {
          "base_uri": "https://localhost:8080/"
        },
        "id": "W4klQWat-rMh",
        "outputId": "96800930-2a93-4827-b33a-76c50ee6e47a"
      },
      "execution_count": 45,
      "outputs": [
        {
          "output_type": "stream",
          "name": "stdout",
          "text": [
            "Files already downloaded and verified\n",
            "Files already downloaded and verified\n"
          ]
        }
      ]
    },
    {
      "cell_type": "code",
      "source": [
        "x = train_data[0][0].unsqueeze(0)\n",
        "x.shape"
      ],
      "metadata": {
        "colab": {
          "base_uri": "https://localhost:8080/"
        },
        "id": "zD_6IbTA_K3W",
        "outputId": "896034ec-4d9b-4e5b-baeb-ea5d37866723"
      },
      "execution_count": 97,
      "outputs": [
        {
          "output_type": "execute_result",
          "data": {
            "text/plain": [
              "torch.Size([1, 3, 32, 32])"
            ]
          },
          "metadata": {},
          "execution_count": 97
        }
      ]
    },
    {
      "cell_type": "markdown",
      "source": [
        "## Patches Embedding\n",
        "\n",
        "2D image → sequence of flattened 2D patches\n",
        "\n",
        "H x W x C → N x (PPC)"
      ],
      "metadata": {
        "id": "H3ngVotb14y4"
      }
    },
    {
      "cell_type": "code",
      "source": [
        "patch_size = 4\n",
        "patches = rearrange(x, 'b c (h s1) (w s2) -> b (h w) (s1 s2 c)', s1=patch_size, s2=patch_size)\n",
        "patches.shape"
      ],
      "metadata": {
        "colab": {
          "base_uri": "https://localhost:8080/"
        },
        "id": "x0OsTUMM14hP",
        "outputId": "49d96e53-1d6d-40ad-e802-a190b59e3613"
      },
      "execution_count": 99,
      "outputs": [
        {
          "output_type": "execute_result",
          "data": {
            "text/plain": [
              "torch.Size([1, 64, 48])"
            ]
          },
          "metadata": {},
          "execution_count": 99
        }
      ]
    },
    {
      "cell_type": "code",
      "source": [
        "class PatchEmbedding(nn.Module):\n",
        "  def __init__(self, in_channels: int = 3, patch_size: int = 4, emb_size: int = 48):\n",
        "    self.patch_size = patch_size\n",
        "    super().__init__()\n",
        "    self.projection = nn.Sequential(\n",
        "      Rearrange('b c (h s1) (w s2) -> b (h w) (s1 s2 c)', s1=patch_size, s2=patch_size),\n",
        "      nn.Linear(patch_size * patch_size * in_channels, emb_size)\n",
        "    )\n",
        "\n",
        "  def forward(self, x: Tensor) -> Tensor:\n",
        "    x = self.projection(x)\n",
        "    return x"
      ],
      "metadata": {
        "id": "BVKHHlwd1-Ay"
      },
      "execution_count": 100,
      "outputs": []
    },
    {
      "cell_type": "code",
      "source": [
        "PatchEmbedding()(x).shape"
      ],
      "metadata": {
        "colab": {
          "base_uri": "https://localhost:8080/"
        },
        "id": "h353FuoYYXyQ",
        "outputId": "d1ef9bff-b07e-4787-8005-8158d54dc5a5"
      },
      "execution_count": 101,
      "outputs": [
        {
          "output_type": "execute_result",
          "data": {
            "text/plain": [
              "torch.Size([1, 64, 48])"
            ]
          },
          "metadata": {},
          "execution_count": 101
        }
      ]
    },
    {
      "cell_type": "code",
      "source": [
        "class PatchEmbedding(nn.Module):\n",
        "  def __init__(self, in_channels: int = 3, patch_size: int = 4, emb_size: int = 48):\n",
        "    self.patch_size = patch_size\n",
        "    super().__init__()\n",
        "    self.projection = nn.Sequential(\n",
        "        nn.Conv2d(in_channels, emb_size, kernel_size = patch_size, stride = patch_size),\n",
        "        # out_channels = emb_size(768)\n",
        "\n",
        "        Rearrange('b e h w -> b (h w) e')\n",
        "        # in_e = channel\n",
        "        # out_e = emb_size\n",
        "    )\n",
        "\n",
        "  def forward(self, x: Tensor) -> Tensor:\n",
        "    x = self.projection(x)\n",
        "    return x\n",
        "\n",
        "PatchEmbedding()(x).shape\n",
        "# torch.Size([1, 3, 4016, 4016]) -> torch.Size([1, 63001, 768])"
      ],
      "metadata": {
        "colab": {
          "base_uri": "https://localhost:8080/"
        },
        "id": "uUL96FmaluBk",
        "outputId": "efdea398-ac5f-4c73-bc54-24e16a91b939"
      },
      "execution_count": 102,
      "outputs": [
        {
          "output_type": "execute_result",
          "data": {
            "text/plain": [
              "torch.Size([1, 64, 48])"
            ]
          },
          "metadata": {},
          "execution_count": 102
        }
      ]
    },
    {
      "cell_type": "markdown",
      "source": [
        "## CLS Token\n",
        "shape = (1,1,emb_size)"
      ],
      "metadata": {
        "id": "pwnamTCUqE1d"
      }
    },
    {
      "cell_type": "code",
      "source": [
        "class PatchEmbedding(nn.Module):\n",
        "  def __init__(self, in_channels: int = 3, patch_size: int = 4, emb_size: int = 48):\n",
        "    self.patch_size = patch_size\n",
        "    super().__init__()\n",
        "    self.projection = nn.Sequential(\n",
        "        nn.Conv2d(in_channels, emb_size, kernel_size = patch_size, stride = patch_size),\n",
        "        Rearrange('b e h w -> b (h w) e')\n",
        "    )\n",
        "\n",
        "    self.cls_token = nn.Parameter(torch.randn(1,1,emb_size))\n",
        "\n",
        "  def forward(self, x: Tensor) -> Tensor:\n",
        "    b, _, _, _ = x.shape\n",
        "    x = self.projection(x)\n",
        "    cls_token = repeat(self.cls_token, '() n e -> b n e', b = b)\n",
        "\n",
        "    x = torch.cat([cls_token, x], dim = 1)\n",
        "    return x\n",
        "\n",
        "PatchEmbedding()(x).shape"
      ],
      "metadata": {
        "colab": {
          "base_uri": "https://localhost:8080/"
        },
        "id": "ixOEqnlUsjGe",
        "outputId": "d18b55fe-7a10-4169-a9cd-07178c257169"
      },
      "execution_count": 103,
      "outputs": [
        {
          "output_type": "execute_result",
          "data": {
            "text/plain": [
              "torch.Size([1, 65, 48])"
            ]
          },
          "metadata": {},
          "execution_count": 103
        }
      ]
    },
    {
      "cell_type": "markdown",
      "source": [
        "## Position Embedding\n",
        "shape = (n+1, emb_size)\n",
        "\n",
        "batch size는 broadcasting으로 같은 Position Embdding 적용하기 때문에 명시하지 않음\n",
        "\n",
        "Position Embedding은 trainable하기 때문에 Parameter로 설정"
      ],
      "metadata": {
        "id": "Gr4s6FJPw6NO"
      }
    },
    {
      "cell_type": "code",
      "source": [
        "class PatchEmbedding(nn.Module):\n",
        "  def __init__(self, in_channels: int = 3, patch_size: int = 4, emb_size: int = 48, img_size: int = 32):\n",
        "    self.patch_size = patch_size\n",
        "    super().__init__()\n",
        "    self.projection = nn.Sequential(\n",
        "      nn.Conv2d(in_channels, emb_size, kernel_size=patch_size, stride=patch_size),\n",
        "      Rearrange('b e (h) (w) -> b (h w) e'),\n",
        "    )\n",
        "    self.cls_token = nn.Parameter(torch.randn(1,1, emb_size))\n",
        "    self.positions = nn.Parameter(torch.randn((img_size // patch_size) ** 2 + 1, emb_size))\n",
        "\n",
        "  def forward(self, x: Tensor) -> Tensor:\n",
        "    b, _, _, _ = x.shape\n",
        "    x = self.projection(x)\n",
        "    cls_tokens = repeat(self.cls_token, '() n e -> b n e', b = b)\n",
        "\n",
        "    x = torch.cat([cls_tokens, x], dim = 1)\n",
        "\n",
        "    x += self.positions\n",
        "    return x\n",
        "\n",
        "PatchEmbedding()(x).shape"
      ],
      "metadata": {
        "colab": {
          "base_uri": "https://localhost:8080/"
        },
        "id": "ZYelU-SxwIJk",
        "outputId": "38b769d0-e4fe-4a6a-f755-5a8607887829"
      },
      "execution_count": 104,
      "outputs": [
        {
          "output_type": "execute_result",
          "data": {
            "text/plain": [
              "torch.Size([1, 65, 48])"
            ]
          },
          "metadata": {},
          "execution_count": 104
        }
      ]
    },
    {
      "cell_type": "markdown",
      "source": [
        "# Transformer Encoder\n",
        "## Multi-Head Attention"
      ],
      "metadata": {
        "id": "Nd1BUuJ4LxQc"
      }
    },
    {
      "cell_type": "code",
      "source": [
        "class MultiHeadAttention(nn.Module):\n",
        ""
      ],
      "metadata": {
        "id": "6ITQaKIALvPc"
      },
      "execution_count": null,
      "outputs": []
    }
  ],
  "metadata": {
    "colab": {
      "provenance": [],
      "gpuType": "T4",
      "authorship_tag": "ABX9TyPW8GO2MaSmlN5kutOMXS0j",
      "include_colab_link": true
    },
    "kernelspec": {
      "display_name": "Python 3",
      "name": "python3"
    },
    "language_info": {
      "name": "python"
    },
    "accelerator": "GPU"
  },
  "nbformat": 4,
  "nbformat_minor": 0
}