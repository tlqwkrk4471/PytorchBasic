{
  "nbformat": 4,
  "nbformat_minor": 0,
  "metadata": {
    "colab": {
      "provenance": [],
      "gpuType": "T4",
      "authorship_tag": "ABX9TyMb77ZL/BAJLT/DmxpUXvQj",
      "include_colab_link": true
    },
    "kernelspec": {
      "name": "python3",
      "display_name": "Python 3"
    },
    "language_info": {
      "name": "python"
    },
    "accelerator": "GPU"
  },
  "cells": [
    {
      "cell_type": "markdown",
      "metadata": {
        "id": "view-in-github",
        "colab_type": "text"
      },
      "source": [
        "<a href=\"https://colab.research.google.com/github/tlqwkrk4471/PytorchBasic/blob/main/Pytorch_Basic.ipynb\" target=\"_parent\"><img src=\"https://colab.research.google.com/assets/colab-badge.svg\" alt=\"Open In Colab\"/></a>"
      ]
    },
    {
      "cell_type": "code",
      "execution_count": 43,
      "metadata": {
        "id": "C-rXL0fBXtw7"
      },
      "outputs": [],
      "source": [
        "import torch\n",
        "import torch.nn as nn\n",
        "import torch.nn.functional as F\n",
        "import torch.optim as optim"
      ]
    },
    {
      "cell_type": "code",
      "source": [
        "torch.manual_seed(1)"
      ],
      "metadata": {
        "colab": {
          "base_uri": "https://localhost:8080/"
        },
        "id": "rv_Ga1Mf5cUK",
        "outputId": "c4732e2b-a357-43f5-f0c3-f667b7a4da77"
      },
      "execution_count": 44,
      "outputs": [
        {
          "output_type": "execute_result",
          "data": {
            "text/plain": [
              "<torch._C.Generator at 0x7f319819cd70>"
            ]
          },
          "metadata": {},
          "execution_count": 44
        }
      ]
    },
    {
      "cell_type": "code",
      "source": [
        "x_train = torch.FloatTensor([[73, 80, 75],\n",
        "                             [93, 88, 93],\n",
        "                             [89, 91, 80],\n",
        "                             [96, 98, 100],\n",
        "                             [73, 66, 70]])\n",
        "y_train = torch.FloatTensor([[152],[185],[180],[196],[142]])\n",
        "\n",
        "W = torch.zeros((3,1), requires_grad=True)\n",
        "b = torch.zeros(1, requires_grad=True)\n",
        "\n",
        "optimizer = optim.SGD([W,b], lr=1e-05)\n",
        "\n",
        "for epoch in range(1000):\n",
        "\n",
        "  hypothesis = x_train.matmul(W) + b\n",
        "\n",
        "  cost = torch.mean((hypothesis - y_train) ** 2)\n",
        "\n",
        "  optimizer.zero_grad()\n",
        "  cost.backward()\n",
        "  optimizer.step()\n",
        "\n",
        "  if epoch % 100 == 0:\n",
        "    print('Epoch {:4d}/{} Cost: {:.6f}'.format(epoch, 1000, cost.item()))"
      ],
      "metadata": {
        "colab": {
          "base_uri": "https://localhost:8080/"
        },
        "id": "F9w6MXPSmKri",
        "outputId": "5b027c2a-e2b1-41c2-9db4-640f98c25c3b"
      },
      "execution_count": 47,
      "outputs": [
        {
          "output_type": "stream",
          "name": "stdout",
          "text": [
            "Epoch    0/1000 Cost: 29661.800781\n",
            "Epoch  100/1000 Cost: 5.754573\n",
            "Epoch  200/1000 Cost: 5.512386\n",
            "Epoch  300/1000 Cost: 5.281667\n",
            "Epoch  400/1000 Cost: 5.061907\n",
            "Epoch  500/1000 Cost: 4.852424\n",
            "Epoch  600/1000 Cost: 4.652731\n",
            "Epoch  700/1000 Cost: 4.462265\n",
            "Epoch  800/1000 Cost: 4.280604\n",
            "Epoch  900/1000 Cost: 4.107261\n"
          ]
        }
      ]
    },
    {
      "cell_type": "code",
      "source": [
        "# dimension setting\n",
        "\n",
        "# x_train = (number of data, input dimension)\n",
        "# y_train = (number of data, output dimension)\n",
        "# model = nn.Linear(input dimension, output dimension)\n",
        "\n",
        "x_train = torch.FloatTensor([[73, 80, 75],\n",
        "                             [93, 88, 93],\n",
        "                             [89, 91, 80],\n",
        "                             [96, 98, 100],\n",
        "                             [73, 66, 70]])\n",
        "y_train = torch.FloatTensor([[152],[185],[180],[196],[142]])\n",
        "\n",
        "model = nn.Linear(3,1)\n",
        "\n",
        "optimizer = optim.SGD(model.parameters(), lr=1e-5)\n",
        "\n",
        "for epoch in range(1000):\n",
        "\n",
        "  prediction = model(x_train)\n",
        "\n",
        "  cost = F.mse_loss(prediction, y_train)\n",
        "\n",
        "  optimizer.zero_grad()\n",
        "  cost.backward()\n",
        "  optimizer.step()\n",
        "\n",
        "  if epoch % 100 == 0:\n",
        "    print('Epoch {:4d}/{} Cost: {:.6f}'.format(epoch, 1000, cost.item()))"
      ],
      "metadata": {
        "colab": {
          "base_uri": "https://localhost:8080/"
        },
        "id": "ijZQ6jzyuICl",
        "outputId": "e9f8c663-365b-491d-a97e-39d4bbc85bb3"
      },
      "execution_count": 48,
      "outputs": [
        {
          "output_type": "stream",
          "name": "stdout",
          "text": [
            "Epoch    0/1000 Cost: 39535.226562\n",
            "Epoch  100/1000 Cost: 13.306046\n",
            "Epoch  200/1000 Cost: 12.809918\n",
            "Epoch  300/1000 Cost: 12.333200\n",
            "Epoch  400/1000 Cost: 11.874941\n",
            "Epoch  500/1000 Cost: 11.434484\n",
            "Epoch  600/1000 Cost: 11.011053\n",
            "Epoch  700/1000 Cost: 10.603966\n",
            "Epoch  800/1000 Cost: 10.212570\n",
            "Epoch  900/1000 Cost: 9.836230\n"
          ]
        }
      ]
    },
    {
      "cell_type": "code",
      "source": [
        "class LinearRegressionModel(nn.Module):\n",
        "  def __init__(self):\n",
        "    super().__init__()\n",
        "    self.linear = nn.Linear(1,1)\n",
        "\n",
        "  def forward(self, x):\n",
        "    return self.linear(x)"
      ],
      "metadata": {
        "id": "i8oq7uZ_8JSR"
      },
      "execution_count": 55,
      "outputs": []
    },
    {
      "cell_type": "code",
      "source": [
        "class MultivariateLinearRegressionModel(nn.Module):\n",
        "  def __init__(self):\n",
        "    super().__init__()\n",
        "    self.linear = nn.Linear(3,1)\n",
        "\n",
        "  def forward(self, x):\n",
        "    return self.linear(x)"
      ],
      "metadata": {
        "id": "wx-80Jb6_m6e"
      },
      "execution_count": 62,
      "outputs": []
    },
    {
      "cell_type": "code",
      "source": [
        "model = MultivariateLinearRegressionModel()"
      ],
      "metadata": {
        "id": "t4LPtHYU9uJj"
      },
      "execution_count": 63,
      "outputs": []
    },
    {
      "cell_type": "code",
      "source": [
        "x_train = torch.FloatTensor([[73, 80, 75],\n",
        "                             [93, 88, 93],\n",
        "                             [89, 91, 80],\n",
        "                             [96, 98, 100],\n",
        "                             [73, 66, 70]])\n",
        "y_train = torch.FloatTensor([[152],[185],[180],[196],[142]])\n",
        "\n",
        "# model = nn.Linear(3,1) -> eliminated\n",
        "\n",
        "optimizer = optim.SGD(model.parameters(), lr=1e-5)\n",
        "\n",
        "for epoch in range(1000):\n",
        "\n",
        "  prediction = model(x_train)\n",
        "  # model(x_train)\n",
        "  # equals to\n",
        "  # model.forward(x_train)\n",
        "\n",
        "  cost = F.mse_loss(prediction, y_train)\n",
        "\n",
        "  optimizer.zero_grad()\n",
        "  cost.backward()\n",
        "  optimizer.step()\n",
        "\n",
        "  if epoch % 100 == 0:\n",
        "    print('Epoch {:4d}/{} Cost: {:.6f}'.format(epoch, 1000, cost.item()))"
      ],
      "metadata": {
        "colab": {
          "base_uri": "https://localhost:8080/"
        },
        "id": "fupOstQi-_Jc",
        "outputId": "ff10d5b7-1c7f-4db5-d104-44d45c07b02e"
      },
      "execution_count": 64,
      "outputs": [
        {
          "output_type": "stream",
          "name": "stdout",
          "text": [
            "Epoch    0/1000 Cost: 17502.355469\n",
            "Epoch  100/1000 Cost: 0.711053\n",
            "Epoch  200/1000 Cost: 0.687557\n",
            "Epoch  300/1000 Cost: 0.664976\n",
            "Epoch  400/1000 Cost: 0.643274\n",
            "Epoch  500/1000 Cost: 0.622400\n",
            "Epoch  600/1000 Cost: 0.602343\n",
            "Epoch  700/1000 Cost: 0.583050\n",
            "Epoch  800/1000 Cost: 0.564514\n",
            "Epoch  900/1000 Cost: 0.546669\n"
          ]
        }
      ]
    },
    {
      "cell_type": "code",
      "source": [],
      "metadata": {
        "id": "ClLRg-khB68J"
      },
      "execution_count": null,
      "outputs": []
    }
  ]
}